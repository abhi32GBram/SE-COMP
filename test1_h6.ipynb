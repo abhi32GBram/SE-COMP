{
  "nbformat": 4,
  "nbformat_minor": 0,
  "metadata": {
    "colab": {
      "provenance": [],
      "authorship_tag": "ABX9TyPQMR/0rdZnZBk1guuqYxhb",
      "include_colab_link": true
    },
    "kernelspec": {
      "name": "python3",
      "display_name": "Python 3"
    },
    "language_info": {
      "name": "python"
    }
  },
  "cells": [
    {
      "cell_type": "markdown",
      "metadata": {
        "id": "view-in-github",
        "colab_type": "text"
      },
      "source": [
        "<a href=\"https://colab.research.google.com/github/abhi32GBram/SE-COMP/blob/main/test1_h6.ipynb\" target=\"_parent\"><img src=\"https://colab.research.google.com/assets/colab-badge.svg\" alt=\"Open In Colab\"/></a>"
      ]
    },
    {
      "cell_type": "code",
      "execution_count": 1,
      "metadata": {
        "colab": {
          "base_uri": "https://localhost:8080/"
        },
        "id": "NQljtxlOuFP4",
        "outputId": "180b03f3-4b73-43d6-f97b-6a286da98d4c"
      },
      "outputs": [
        {
          "output_type": "stream",
          "name": "stdout",
          "text": [
            "hi bruh lmao \n"
          ]
        }
      ],
      "source": [
        "print(\"hi bruh lmao \")"
      ]
    },
    {
      "cell_type": "code",
      "source": [
        "import pandas as pd\n",
        "myList= [23,45,56,34,23,23,23]\n",
        "res = pd.Series(myList)\n",
        "print(\"The resulting series is as follows : \\n\", res)\n"
      ],
      "metadata": {
        "colab": {
          "base_uri": "https://localhost:8080/"
        },
        "id": "ElI4KcvquVva",
        "outputId": "4719bdf9-b9bb-4115-aa3e-f9b871d4217a"
      },
      "execution_count": 2,
      "outputs": [
        {
          "output_type": "stream",
          "name": "stdout",
          "text": [
            "The resulting series is as follows : \n",
            " 0    23\n",
            "1    45\n",
            "2    56\n",
            "3    34\n",
            "4    23\n",
            "5    23\n",
            "6    23\n",
            "dtype: int64\n"
          ]
        }
      ]
    },
    {
      "cell_type": "code",
      "source": [],
      "metadata": {
        "id": "dXmbfb78u1Ju"
      },
      "execution_count": null,
      "outputs": []
    },
    {
      "cell_type": "code",
      "source": [
        "import numpy as np\n",
        "myArr = np.array((34,56,23))\n",
        "print(\"The resulting array is : \\n\",myArr)\n"
      ],
      "metadata": {
        "colab": {
          "base_uri": "https://localhost:8080/"
        },
        "id": "LmOkda5-u2th",
        "outputId": "fb29a735-e7f1-4ba6-cd44-73abce2e74b1"
      },
      "execution_count": 4,
      "outputs": [
        {
          "output_type": "stream",
          "name": "stdout",
          "text": [
            "The resulting array is : \n",
            " [34 56 23]\n"
          ]
        }
      ]
    },
    {
      "cell_type": "code",
      "source": [
        "import matplotlib.pyplot as plt\n",
        "import numpy as np\n",
        "\n",
        "xcoords = np.array([0,4])\n",
        "ycoords = np.array([0,60])\n",
        "\n",
        "plt.plot(xcoords,ycoords)\n",
        "plt.show()\n",
        "\n",
        "\n"
      ],
      "metadata": {
        "colab": {
          "base_uri": "https://localhost:8080/",
          "height": 265
        },
        "id": "k4-DE7HMv58p",
        "outputId": "466c142c-bc10-416b-f7b0-8c73ab7e2901"
      },
      "execution_count": 5,
      "outputs": [
        {
          "output_type": "display_data",
          "data": {
            "text/plain": [
              "<Figure size 432x288 with 1 Axes>"
            ],
            "image/png": "[encoded data removed]"
          },
          "metadata": {
            "needs_background": "light"
          }
        }
      ]
    }
  ]
}